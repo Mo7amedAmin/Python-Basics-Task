{
  "nbformat": 4,
  "nbformat_minor": 0,
  "metadata": {
    "colab": {
      "provenance": []
    },
    "kernelspec": {
      "name": "python3",
      "display_name": "Python 3"
    },
    "language_info": {
      "name": "python"
    }
  },
  "cells": [
    {
      "cell_type": "markdown",
      "source": [
        "# Task_1"
      ],
      "metadata": {
        "id": "5tiqkSxGtqRH"
      }
    },
    {
      "cell_type": "markdown",
      "source": [
        "# <font color='red'> 1) Mark down all the Valid boolean expression in python: </font> \n",
        "\n",
        "#### A) n > 100 and < 500\n",
        "#### B) n > 100 and n < 500\n",
        "#### C) 100 < n < 500\n"
      ],
      "metadata": {
        "id": "YWgp6TQynE42"
      }
    },
    {
      "cell_type": "code",
      "source": [],
      "metadata": {
        "id": "3xBB-JLJuJ-8"
      },
      "execution_count": null,
      "outputs": []
    },
    {
      "cell_type": "code",
      "source": [
        "A = False #@param {type:\"boolean\"} \n",
        "B = True #@param {type:\"boolean\"} \n",
        "C = False #@param {type:\"boolean\"} \n"
      ],
      "metadata": {
        "id": "WaBM7Ua0l96Z"
      },
      "execution_count": null,
      "outputs": []
    },
    {
      "cell_type": "markdown",
      "source": [
        "\n",
        "# <font color='red'> 2) Fill the gaps to get the ouput as in the example below:\n",
        "##### (For any string greater than 3 characters)\n",
        "#### **Input**: \"globalization\" \n",
        "#### **Output**: g11n\n",
        "#### **\n",
        "#### **Input**: \"subjective\" \n",
        "#### **Output**: s8e\n",
        "#### **\n",
        "\n",
        "### YOUR CODE: \n",
        "<font color='brown'> **s = input()** \n",
        "<br> **print(... + ... + ...)**\n"
      ],
      "metadata": {
        "id": "rzaw1bLYjps-"
      }
    },
    {
      "cell_type": "code",
      "source": [
        "s = input()\n",
        "print(s[0]+str(len(s)-2)+s[-1])"
      ],
      "metadata": {
        "id": "HgAM8xvtnEbf",
        "colab": {
          "base_uri": "https://localhost:8080/"
        },
        "outputId": "f3ad6611-6075-4bcf-fcaf-fec237514097"
      },
      "execution_count": 2,
      "outputs": [
        {
          "output_type": "stream",
          "name": "stdout",
          "text": [
            "subjective\n",
            "s8e\n"
          ]
        }
      ]
    },
    {
      "cell_type": "markdown",
      "source": [
        "# <font color='red'> 3) Create a tuple of 10 elements and then multiply each element of the tuple by 2 & save the results in a list"
      ],
      "metadata": {
        "id": "S-tbOKj-lkek"
      }
    },
    {
      "cell_type": "code",
      "source": [
        "tup = (1, 2, 3, 4, 5, 6, 7, 8, 9, 10)\n",
        "res = [num * 2 for num in tup]\n",
        "print(res)"
      ],
      "metadata": {
        "id": "B49aQLyil_gC",
        "colab": {
          "base_uri": "https://localhost:8080/"
        },
        "outputId": "d16b4b92-05e8-4f77-d433-0ee6c8bbd139"
      },
      "execution_count": 3,
      "outputs": [
        {
          "output_type": "stream",
          "name": "stdout",
          "text": [
            "[2, 4, 6, 8, 10, 12, 14, 16, 18, 20]\n"
          ]
        }
      ]
    },
    {
      "cell_type": "markdown",
      "source": [
        "# <font color='red'> 4) Reverse the string 'Mansoura' using slicing"
      ],
      "metadata": {
        "id": "LCdj2MzVp_7v"
      }
    },
    {
      "cell_type": "code",
      "source": [
        "print(\"Mansoura\"[::-1])"
      ],
      "metadata": {
        "id": "SubUk05Cs_k6",
        "colab": {
          "base_uri": "https://localhost:8080/"
        },
        "outputId": "51dc70cf-d3ba-40a8-c77d-e0836745b6a2"
      },
      "execution_count": 4,
      "outputs": [
        {
          "output_type": "stream",
          "name": "stdout",
          "text": [
            "aruosnaM\n"
          ]
        }
      ]
    },
    {
      "cell_type": "markdown",
      "source": [
        "# <font color='red'> 5) Use List Comprehension to create a list of the first letters of ever-y word in the string below:\n",
        "\n",
        "* st = 'Friendship is the tree of its seeds tender'"
      ],
      "metadata": {
        "id": "XF8kQVzzsD6t"
      }
    },
    {
      "cell_type": "code",
      "source": [
        "st = 'Friendship is the tree of its seeds tender'\n",
        "res=[word[0] for word in st.split()]\n",
        "print(res)"
      ],
      "metadata": {
        "id": "4BaX05QQtA7f",
        "colab": {
          "base_uri": "https://localhost:8080/"
        },
        "outputId": "9bdc9025-9811-4b48-fd2b-f64ba06ee392"
      },
      "execution_count": 5,
      "outputs": [
        {
          "output_type": "stream",
          "name": "stdout",
          "text": [
            "['F', 'i', 't', 't', 'o', 'i', 's', 't']\n"
          ]
        }
      ]
    },
    {
      "cell_type": "markdown",
      "source": [
        "# <font color='cyan'> BONUS <font color='red'> 6) Create a class called car that include some valriables like : \n",
        "* name\n",
        "* color\n",
        "* age"
      ],
      "metadata": {
        "id": "GQo7e9YPmlQ0"
      }
    },
    {
      "cell_type": "code",
      "source": [
        "class Car:\n",
        "    def  __init__(self, brand, color, model):\n",
        "        self.brand = brand\n",
        "        self.color = color\n",
        "        self.model = model\n",
        "\n",
        "car1 = Car('BMW', 'Red', '2020')\n",
        "car2 = Car('Ferrari', 'Black', '2015')\n",
        "print(car1.color)\n",
        "print(car2.brand)"
      ],
      "metadata": {
        "id": "PG15Tr-8tfni",
        "colab": {
          "base_uri": "https://localhost:8080/"
        },
        "outputId": "394deaab-2a34-431c-977d-a1ca5c43110c"
      },
      "execution_count": 9,
      "outputs": [
        {
          "output_type": "stream",
          "name": "stdout",
          "text": [
            "Red\n",
            "Ferrari\n"
          ]
        }
      ]
    },
    {
      "cell_type": "markdown",
      "source": [
        "# <font color='red'> **Solve these problems with python**:<br>\n",
        "<a href='https://www.hackerrank.com/challenges/python-string-split-and-join/problem'> **problem 1**\n",
        "    <br>\n",
        "    <br>\n",
        "<a href='https://www.hackerrank.com/challenges/py-if-else/problem'> **problem 2**\n",
        "<br>\n",
        "<br>\n",
        "<a href='https://codeforces.com/group/MWSDmqGsZm/contest/219158/problem/Y'> **problem 3**\n",
        "    <br>\n",
        "    <br>\n",
        "<a href='https://www.hackerrank.com/challenges/list-comprehensions/problem'> **problem 4** <font color='cyan'> BONUS\n",
        "    <br>\n",
        "    <br>\n",
        "<a href='https://www.hackerrank.com/challenges/swap-case/problem'> **problem 5** <font color='cyan'> BONUS\n",
        "    <br>\n",
        "    <br>\n",
        "<a href='https://codeforces.com/group/MWSDmqGsZm/contest/219158/problem/X'> **problem 6** <font color='cyan'> BONUS\n",
        "    <br>\n"
      ],
      "metadata": {
        "id": "T4VSxkHzuaDa"
      }
    },
    {
      "cell_type": "code",
      "source": [
        "#problem 1 \n",
        "\n",
        "\n",
        "def split_and_join(line):\n",
        "    line = line.split()\n",
        "    return('-'.join(line))\n",
        "\n",
        "if __name__ == '__main__':\n",
        "    line = input()\n",
        "    result = split_and_join(line)\n",
        "    print(result)\n"
      ],
      "metadata": {
        "id": "WfsduVL1vqsP",
        "colab": {
          "base_uri": "https://localhost:8080/"
        },
        "outputId": "5992ada8-d682-41ed-987f-923ab4004d6d"
      },
      "execution_count": 6,
      "outputs": [
        {
          "output_type": "stream",
          "name": "stdout",
          "text": [
            "'Friendship is the tree of its seeds tender'\n",
            "'Friendship-is-the-tree-of-its-seeds-tender'\n"
          ]
        }
      ]
    },
    {
      "cell_type": "code",
      "source": [
        "#problem 2\n",
        "\n",
        "#!/bin/python3\n",
        "\n",
        "import math\n",
        "import os\n",
        "import random\n",
        "import re\n",
        "import sys\n",
        "\n",
        "\n",
        "\n",
        "if __name__ == '__main__':\n",
        "    n = int(input().strip())\n",
        "    if n%2 == 1:\n",
        "        print('Weird')\n",
        "    else:\n",
        "        if n>=6 and n <=20:\n",
        "            print('Weird')\n",
        "        else:\n",
        "            print('Not Weird')\n",
        "\n"
      ],
      "metadata": {
        "id": "tV6DFexRvq5-",
        "colab": {
          "base_uri": "https://localhost:8080/"
        },
        "outputId": "2326d53d-5d9e-4009-df4c-09549594b5e3"
      },
      "execution_count": 7,
      "outputs": [
        {
          "output_type": "stream",
          "name": "stdout",
          "text": [
            "24\n",
            "Not Weird\n"
          ]
        }
      ]
    },
    {
      "cell_type": "code",
      "source": [
        "#problem 3\n",
        "numbers = [int(x) for x in input().split()]\n",
        "multiplicacion = 1\n",
        "for number in numbers:\n",
        "    multiplicacion *= number\n",
        "print(str(multiplicacion)[-2:])\n",
        "\n",
        "\n"
      ],
      "metadata": {
        "id": "8L9HjXVIvrB-",
        "colab": {
          "base_uri": "https://localhost:8080/"
        },
        "outputId": "2bc19ed6-deb8-4f83-aaff-43fc4ef62605"
      },
      "execution_count": 8,
      "outputs": [
        {
          "output_type": "stream",
          "name": "stdout",
          "text": [
            "5 7 2 4\n",
            "80\n"
          ]
        }
      ]
    },
    {
      "cell_type": "code",
      "source": [
        "from google.colab import drive\n",
        "drive.mount('/content/drive')"
      ],
      "metadata": {
        "colab": {
          "base_uri": "https://localhost:8080/"
        },
        "id": "MbuLiTAzUIcB",
        "outputId": "08b1f4fe-c453-4e46-99fc-e69e60511a3c"
      },
      "execution_count": 13,
      "outputs": [
        {
          "output_type": "stream",
          "name": "stdout",
          "text": [
            "Mounted at /content/drive\n"
          ]
        }
      ]
    },
    {
      "cell_type": "code",
      "source": [
        "#problem 4\n",
        "\n",
        "\n",
        "x = int(input())\n",
        "y = int(input())\n",
        "z = int(input())\n",
        "n = int(input())\n",
        "\n",
        "result = [[i, j, k] for i in range(x+1) for j in range(y+1) for k in range(z+1) if i+j+k != n]\n",
        "print(result)\n"
      ],
      "metadata": {
        "id": "3f6ciBn7vrOL",
        "colab": {
          "base_uri": "https://localhost:8080/"
        },
        "outputId": "bc5faf42-8b9e-4c6f-f439-6d8407fb0924"
      },
      "execution_count": 10,
      "outputs": [
        {
          "output_type": "stream",
          "name": "stdout",
          "text": [
            "1\n",
            "1\n",
            "1\n",
            "2\n",
            "[[0, 0, 0], [0, 0, 1], [0, 1, 0], [1, 0, 0], [1, 1, 1]]\n"
          ]
        }
      ]
    },
    {
      "cell_type": "code",
      "source": [
        "#problem 5 \n",
        "\n",
        "\n",
        "def swap_case(s):\n",
        "    return s.swapcase()\n",
        "\n",
        "if __name__ == '__main__':\n",
        "    s = input()\n",
        "    result = swap_case(s)\n",
        "    print(result)\n"
      ],
      "metadata": {
        "id": "VfYvejyOvrem",
        "colab": {
          "base_uri": "https://localhost:8080/"
        },
        "outputId": "e634e5f3-826c-4cba-a200-e9cd57593bba"
      },
      "execution_count": 11,
      "outputs": [
        {
          "output_type": "stream",
          "name": "stdout",
          "text": [
            "Mohamed\n",
            "mOHAMED\n"
          ]
        }
      ]
    },
    {
      "cell_type": "code",
      "source": [
        "#problem 6\n",
        "\n",
        "\n",
        "\n",
        "intervals = [int(x) for x in input().split()]\n",
        "l1 = intervals[0]\n",
        "r1 = intervals[1]\n",
        "l2 = intervals[2]\n",
        "r2 = intervals[3]\n",
        "\n",
        "if l2 > r1 or l1 > r2:\n",
        "    print(-1)\n",
        "else:\n",
        "    if l2 >= l1:\n",
        "        print(l2,end=' ')\n",
        "    else:\n",
        "        print(l1,end=' ')\n",
        "    if r1 <= r2:\n",
        "        print(r1)\n",
        "    else:\n",
        "        print(r2)"
      ],
      "metadata": {
        "id": "QgXXw8otvr8D",
        "colab": {
          "base_uri": "https://localhost:8080/"
        },
        "outputId": "bb595f0d-5f02-4aad-c4d9-ffa915a7e386"
      },
      "execution_count": 12,
      "outputs": [
        {
          "output_type": "stream",
          "name": "stdout",
          "text": [
            "1 15 5 27\n",
            "5 15\n"
          ]
        }
      ]
    }
  ]
}